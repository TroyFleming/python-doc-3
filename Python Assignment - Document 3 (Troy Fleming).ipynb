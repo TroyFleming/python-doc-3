{
 "cells": [
  {
   "cell_type": "markdown",
   "metadata": {
    "id": "_dbwZ9_ftkx2"
   },
   "source": [
    "# Data Collections 2 (Dictionaries, Sets) and Importing Modules"
   ]
  },
  {
   "cell_type": "markdown",
   "metadata": {
    "id": "hZhMxkHgtkx-"
   },
   "source": [
    "## Tasks Today:\n",
    "\n",
    "1) Dictionary <br>\n",
    " &nbsp;&nbsp;&nbsp;&nbsp; a) Declaring (key, value) <br>\n",
    " &nbsp;&nbsp;&nbsp;&nbsp; b) Accessing Values <br>\n",
    " &nbsp;&nbsp;&nbsp;&nbsp; ------ Exercise #1 - Print the eye color of each person in a double nested dict <br>\n",
    " &nbsp;&nbsp;&nbsp;&nbsp; c) Adding New Pairs <br>\n",
    " &nbsp;&nbsp;&nbsp;&nbsp; d) Modifying Values <br>\n",
    " &nbsp;&nbsp;&nbsp;&nbsp; e) Removing Key, Value Pairs <br>\n",
    " &nbsp;&nbsp;&nbsp;&nbsp; f) Looping a Dictionary <br>\n",
    " &nbsp;&nbsp;&nbsp;&nbsp; g) Looping Only Keys <br>\n",
    " &nbsp;&nbsp;&nbsp;&nbsp; h) Looping Only Values <br>\n",
    " &nbsp;&nbsp;&nbsp;&nbsp; ------ Exercise #2 - Create a Function that Prints All Key Value Pairs within a print .format()  <br>\n",
    " &nbsp;&nbsp;&nbsp;&nbsp; i) sorted() <br>\n",
    " &nbsp;&nbsp;&nbsp;&nbsp; j) Lists with Dictionaries <br>\n",
    " &nbsp;&nbsp;&nbsp;&nbsp; k) Dictionaries with Lists <br>\n",
    " &nbsp;&nbsp;&nbsp;&nbsp; l) Dictionaries with Dictionaries <br>\n",
    " &nbsp;&nbsp;&nbsp;&nbsp; ------ Exercise #3 - Write a Function that asks someone's name and address, and then stores that into a dictionary, which prints all names and addresses after they're done putting information in...  <br>\n",
    "2) Dictionaries vs. Lists (over time)<br>\n",
    "3) Set <br>\n",
    " &nbsp;&nbsp;&nbsp;&nbsp; a) Declaring <br>\n",
    " &nbsp;&nbsp;&nbsp;&nbsp; b) .add() <br>\n",
    " &nbsp;&nbsp;&nbsp;&nbsp; c) .remove() <br>\n",
    " &nbsp;&nbsp;&nbsp;&nbsp; d) .union() <br>\n",
    " &nbsp;&nbsp;&nbsp;&nbsp; e) .intersection() <br>\n",
    " &nbsp;&nbsp;&nbsp;&nbsp; f) .difference() <br>\n",
    " &nbsp;&nbsp;&nbsp;&nbsp; g) Frozen Set <br>\n",
    "4) Modules <br>\n",
    " &nbsp;&nbsp;&nbsp;&nbsp; a) Importing Entire Modules <br>\n",
    " &nbsp;&nbsp;&nbsp;&nbsp; b) Importing Methods Only <br>\n",
    " &nbsp;&nbsp;&nbsp;&nbsp; c) Using the 'as' Keyword <br>\n",
    " &nbsp;&nbsp;&nbsp;&nbsp; d) Creating a Module <br>\n",
    "5) Exercises <br>\n",
    " &nbsp;&nbsp;&nbsp;&nbsp; a) Build a Shopping Cart <br>\n",
    " &nbsp;&nbsp;&nbsp;&nbsp; b) Create Your Own Module <br>"
   ]
  },
  {
   "cell_type": "markdown",
   "metadata": {
    "id": "WpN9NLR-tkyB"
   },
   "source": [
    "## Dictionary <br>\n",
    "<p>A collection of data with 'key:value' pairs. Dictionaries are ordered as of Python 3.6</p>"
   ]
  },
  {
   "cell_type": "markdown",
   "metadata": {
    "id": "FE6o-BdAtkyC"
   },
   "source": [
    "##### Declaring (key, value)"
   ]
  },
  {
   "cell_type": "code",
   "execution_count": 5,
   "metadata": {
    "id": "QBuYirAgtkyC"
   },
   "outputs": [],
   "source": [
    "# A 'list' of key:value pairs, identified with {} instead of []\n",
    "# Keys have to be unique within dictionaries\n",
    "# Keys can be numbers or strings\n",
    "\n",
    "first_dict = {}\n",
    "\n",
    "# OR\n",
    "\n",
    "second_dict = dict()\n",
    "\n",
    "# Filled with data, it should look like:\n",
    "third_dict = {\n",
    "    'dave':'255 Main St',\n",
    "    'sean':'522 First St',\n",
    "    0: 'This is the value for the key of zero',\n",
    "    1: None\n",
    "}"
   ]
  },
  {
   "cell_type": "markdown",
   "metadata": {
    "id": "Sryp6ya9tkyE"
   },
   "source": [
    "##### Accessing Values"
   ]
  },
  {
   "cell_type": "code",
   "execution_count": 7,
   "metadata": {
    "id": "OE-XnHcutkyF",
    "outputId": "fbfec701-a420-417a-c43d-2dffa5092462"
   },
   "outputs": [
    {
     "name": "stdout",
     "output_type": "stream",
     "text": [
      "255 Main St\n",
      "None\n",
      "This is the value for the key of zero\n"
     ]
    }
   ],
   "source": [
    "# Call values via dictionary([key index/value])\n",
    "print(third_dict['dave'])\n",
    "print(third_dict[1])\n",
    "print(third_dict[0])"
   ]
  },
  {
   "cell_type": "markdown",
   "metadata": {
    "id": "bKzCusj9tkyH"
   },
   "source": [
    "## In-Class Exercise #1 - Print a formatted statement from the dictionary below <br>\n",
    "<p>The output should be '2018 Chevrolet Silverado'</p>"
   ]
  },
  {
   "cell_type": "code",
   "execution_count": 14,
   "metadata": {
    "id": "_sAQmOOytkyI",
    "outputId": "e91511e3-ac85-4201-de7c-2e65c72c4a35"
   },
   "outputs": [
    {
     "name": "stdout",
     "output_type": "stream",
     "text": [
      "2018 Chevrolet Silverado\n"
     ]
    }
   ],
   "source": [
    "# Use the dictionary below to product the output requested above\n",
    "truck = {\n",
    "    'year': 2018,\n",
    "    'make': 'Chevrolet',\n",
    "    'model': 'Silverado'\n",
    "}\n",
    "\n",
    "print(str(truck['year']) + \" \" + truck['make'] + \" \" + truck['model'])"
   ]
  },
  {
   "cell_type": "markdown",
   "metadata": {
    "id": "LDXE44vHtkyK"
   },
   "source": [
    "##### Adding New Pairs"
   ]
  },
  {
   "cell_type": "code",
   "execution_count": 15,
   "metadata": {
    "id": "HEfFRiyFtkyL",
    "outputId": "f423f15c-4015-4aad-fa3d-6955f6ede6d6"
   },
   "outputs": [
    {
     "name": "stdout",
     "output_type": "stream",
     "text": [
      "{'dave': '255 Main St', 'sean': '522 First St', 0: 'This is the value for the key of zero', 1: None, 'bob': '151 Main St'}\n"
     ]
    }
   ],
   "source": [
    "# You can add new pairs to a dictionary via = operator\n",
    "# Format: dictionary['key to add'] = value to add\n",
    "\n",
    "third_dict['bob'] = '151 Main St'\n",
    "print(third_dict)"
   ]
  },
  {
   "cell_type": "markdown",
   "metadata": {
    "id": "JINLY2qGtkyL"
   },
   "source": [
    "##### Modifying Values"
   ]
  },
  {
   "cell_type": "code",
   "execution_count": 18,
   "metadata": {
    "id": "H2fb1ydVtkyM",
    "outputId": "ac96a79e-aee7-41e9-cd02-90c6b9bbd79b"
   },
   "outputs": [
    {
     "name": "stdout",
     "output_type": "stream",
     "text": [
      "{'dave': '255 Main St', 'sean': '522 First St', 0: 'This is the value for the key of zero', 1: None, 'bob': '123 Chicago'}\n",
      "{'dave': '255 Main St', 'sean': '522 First St', 0: 'This is the value for the key of zero', 1: None, 'bob': '123 Chicago Illinois'}\n"
     ]
    }
   ],
   "source": [
    "# Values can be changed or updated by reassigning with the same format as above\n",
    "\n",
    "third_dict['bob'] = '123 Chicago'\n",
    "print(third_dict)\n",
    "\n",
    "# Can also change via variables/references\n",
    "placeholder = third_dict['bob']\n",
    "third_dict['bob'] = placeholder + ' Illinois'\n",
    "print(third_dict)"
   ]
  },
  {
   "cell_type": "markdown",
   "metadata": {
    "id": "WeiLN5GEtkyM"
   },
   "source": [
    "##### Removing Key, Value Pairs"
   ]
  },
  {
   "cell_type": "code",
   "execution_count": 19,
   "metadata": {
    "id": "JQiDdU-AtkyN",
    "outputId": "35f25764-c6f0-4a9c-8a0d-79c68bdacfa8"
   },
   "outputs": [
    {
     "name": "stdout",
     "output_type": "stream",
     "text": [
      "{'dave': '255 Main St', 'sean': '522 First St', 0: 'This is the value for the key of zero', 1: None}\n"
     ]
    }
   ],
   "source": [
    "# Can remove key:value pairs by using the del fuction on a key that should be deleted\n",
    "# Example: del dictionary['key to delete']  Note: will delete both key and value\n",
    "\n",
    "del third_dict['bob']\n",
    "print(third_dict)"
   ]
  },
  {
   "cell_type": "markdown",
   "metadata": {
    "id": "E_XuuKdptkyN"
   },
   "source": [
    "##### Looping a Dictionary"
   ]
  },
  {
   "cell_type": "code",
   "execution_count": 20,
   "metadata": {
    "id": "pcaJnqF1tkyN",
    "outputId": "45da30ae-bbad-490d-cc00-72d5033cf4ca"
   },
   "outputs": [
    {
     "name": "stdout",
     "output_type": "stream",
     "text": [
      "dave 255 Main St\n",
      "sean 522 First St\n",
      "0 This is the value for the key of zero\n",
      "1 None\n"
     ]
    }
   ],
   "source": [
    "# To loop through key:value pairs in a dictionary, use a modified loop statement that appends .items() to dictionary\n",
    "\n",
    "for key, value in third_dict.items():\n",
    "    print(key, value)"
   ]
  },
  {
   "cell_type": "markdown",
   "metadata": {
    "id": "PQ23H2vJtkyO"
   },
   "source": [
    "##### Looping Only Keys"
   ]
  },
  {
   "cell_type": "code",
   "execution_count": 22,
   "metadata": {
    "id": "mwSj3CnZtkyO",
    "outputId": "22b60815-61e7-4246-b94d-dcb6efc7e494"
   },
   "outputs": [
    {
     "name": "stdout",
     "output_type": "stream",
     "text": [
      "dave\n",
      "sean\n",
      "0\n",
      "1\n"
     ]
    }
   ],
   "source": [
    "# To loop through keys only, exclude the 'value' variable from the for loop and change .items() to .keys()\n",
    "\n",
    "for key in third_dict.keys():\n",
    "    print(key)"
   ]
  },
  {
   "cell_type": "markdown",
   "metadata": {
    "id": "MBZlYQzVtkyO"
   },
   "source": [
    "##### Looping Only Values"
   ]
  },
  {
   "cell_type": "code",
   "execution_count": 23,
   "metadata": {
    "id": "TBjtOjM5tkyP",
    "outputId": "a4989be5-d831-401e-e9d4-e9e180815666"
   },
   "outputs": [
    {
     "name": "stdout",
     "output_type": "stream",
     "text": [
      "255 Main St\n",
      "522 First St\n",
      "This is the value for the key of zero\n",
      "None\n"
     ]
    }
   ],
   "source": [
    "# To loop through values only, exclude the 'key' variable from the for loop and change .items() to .values()\n",
    "\n",
    "for value in third_dict.values():\n",
    "    print(value)"
   ]
  },
  {
   "cell_type": "markdown",
   "metadata": {
    "id": "sXNEqY_PtkyP"
   },
   "source": [
    "## In-Class Exercise #2 - Create a Function that Prints All Key Value Pairs within a print .format() <br>\n",
    "<p><b>Output should be:</b><br>\n",
    "Max has blue eyes<br>\n",
    "Lilly has brown eyes<br>\n",
    "Barney has blue eyes<br>\n",
    "etc.\n",
    "</p>"
   ]
  },
  {
   "cell_type": "code",
   "execution_count": 25,
   "metadata": {
    "id": "WycbNHQRtkyP",
    "outputId": "752849d7-5ba4-4fce-850e-ee1fc5f1a2ee"
   },
   "outputs": [
    {
     "name": "stdout",
     "output_type": "stream",
     "text": [
      "Max has blue eyes\n",
      "Lilly has brown eyes\n",
      "Barney has blue eyes\n",
      "Larney has brown eyes\n",
      "Ted has purple eyes\n"
     ]
    }
   ],
   "source": [
    "# Use the dictionary below to produce the output requested\n",
    "\n",
    "people = {\n",
    "    'Max': 'blue',\n",
    "    'Lilly': 'brown',\n",
    "    'Barney': 'blue',\n",
    "    'Larney': 'brown',\n",
    "    'Ted': 'purple'\n",
    "}\n",
    "\n",
    "for key, value in people.items():\n",
    "    print(f'{key} has {value} eyes')"
   ]
  },
  {
   "cell_type": "markdown",
   "metadata": {
    "id": "eBfX4HIytkyQ"
   },
   "source": [
    "##### sorted()"
   ]
  },
  {
   "cell_type": "code",
   "execution_count": 30,
   "metadata": {
    "id": "YXw_71-utkyQ",
    "outputId": "7afc3c4f-fb0c-4f76-a48e-cd0ca955cb7f"
   },
   "outputs": [
    {
     "name": "stdout",
     "output_type": "stream",
     "text": [
      "['Barney', 'Larney', 'Lilly', 'Max', 'Ted']\n",
      "['blue', 'blue', 'brown', 'brown', 'purple']\n",
      "[('Barney', 'blue'), ('Larney', 'brown'), ('Lilly', 'brown'), ('Max', 'blue'), ('Ted', 'purple')]\n"
     ]
    }
   ],
   "source": [
    "# To sort the dictionary, use the sorted() function\n",
    "# By Values: sorted(dictionary.values())\n",
    "# By Keys: sorted(dictionary.keys())\n",
    "# By Key:Value Pair: sorted(dictionary.items())\n",
    "\n",
    "print(sorted(people.keys()))\n",
    "print(sorted(people.values()))\n",
    "print(sorted(people.items()))\n",
    "\n",
    "# Note that doing this by items() returns the key:value pairs as tuples\n"
   ]
  },
  {
   "cell_type": "markdown",
   "metadata": {
    "id": "iydsJ6wttkyR"
   },
   "source": [
    "##### List with Dictionaries"
   ]
  },
  {
   "cell_type": "code",
   "execution_count": 33,
   "metadata": {
    "id": "KSmaQj9AtkyR",
    "outputId": "38d9012a-0812-41e0-9276-c11a2a3e6e72"
   },
   "outputs": [
    {
     "name": "stdout",
     "output_type": "stream",
     "text": [
      "Barbara\n",
      "random_guy\n",
      "random_girl\n"
     ]
    }
   ],
   "source": [
    "# Can put lists into dictionaries and vise versa\n",
    "\n",
    "names = ['Dave','Randy','Blair',{'random_guy':'Robert','random_girl':'Barbara'}]\n",
    "         \n",
    "print(names[3]['random_girl'])\n",
    "\n",
    "# To get all keys from a nested dictionary in a list\n",
    "for key in names[3].keys():\n",
    "    print(key)"
   ]
  },
  {
   "cell_type": "markdown",
   "metadata": {
    "id": "dLJlNXNRtkyR"
   },
   "source": [
    "##### Dictionaries with Lists"
   ]
  },
  {
   "cell_type": "code",
   "execution_count": 37,
   "metadata": {
    "id": "LAESm7mvtkyS",
    "outputId": "80506949-4e40-4f8b-84e7-2ff3a21edb39"
   },
   "outputs": [
    {
     "name": "stdout",
     "output_type": "stream",
     "text": [
      "smith\n",
      "m\n"
     ]
    }
   ],
   "source": [
    "# Do not confuse numbers with index when using number values for keys\n",
    "\n",
    "random_data = {\n",
    "    'list1': [54,7,11],\n",
    "    '2': ['smith']\n",
    "}\n",
    "\n",
    "for key in random_data['2']:\n",
    "    print(key)\n",
    "    \n",
    "print(random_data['2'][0][1])\n",
    "\n",
    "# Note that this pulls the value of the key:value pair, not the key, since the number acts as a key instead of an index"
   ]
  },
  {
   "cell_type": "markdown",
   "metadata": {
    "id": "6a4VbpNRtkyS"
   },
   "source": [
    "##### Dictionaries with Dictionaries"
   ]
  },
  {
   "cell_type": "code",
   "execution_count": 40,
   "metadata": {
    "id": "Ox0rBuXDtkyS",
    "outputId": "3d953d92-52f2-4236-c03b-20204b333b4d"
   },
   "outputs": [
    {
     "name": "stdout",
     "output_type": "stream",
     "text": [
      "2.99\n"
     ]
    }
   ],
   "source": [
    "# You can nest dictionaries within dictionaries\n",
    "\n",
    "food_dict = {\n",
    "    'ice_cream':{\n",
    "        'Chocolate': 2.99,\n",
    "        'Vanilla': 3.99,\n",
    "        'Oreo': 5.99\n",
    "    },\n",
    "    'pizza' : {\n",
    "        'pepperoni': 14.99,\n",
    "        'vegetarian': 15.99\n",
    "    }\n",
    "}\n",
    "\n",
    "print(food_dict['ice_cream']['Chocolate'])\n",
    "\n",
    "# Casing matters when calling dictionary keys and values!"
   ]
  },
  {
   "cell_type": "markdown",
   "metadata": {
    "id": "qLcuftHjtkyS"
   },
   "source": [
    "## Dictionaries vs. Lists (over time) Example of RUNTIME\n",
    "### When inputting values in a Dictionary vs List"
   ]
  },
  {
   "cell_type": "code",
   "execution_count": 41,
   "metadata": {
    "id": "xM0KJsyHtkyT"
   },
   "outputs": [],
   "source": [
    "import time\n",
    "\n",
    "# generate fake dictionary\n",
    "d = {}\n",
    "\n",
    "for i in range(10000000):\n",
    "    d[i] = 'value'\n",
    "    \n",
    "    \n",
    "# generate fake list\n",
    "big_list = [x for x in range(10000000)]"
   ]
  },
  {
   "cell_type": "code",
   "execution_count": 44,
   "metadata": {
    "id": "A6yUJh-wtkyT",
    "outputId": "d4309011-d68d-4ba2-e13d-bf9213687ad4"
   },
   "outputs": [
    {
     "name": "stdout",
     "output_type": "stream",
     "text": [
      "value\n",
      "Elapsed time for dictionary: 0.0\n",
      "9999999\n",
      "Elapsed time for list: 0.7382121086120605\n"
     ]
    }
   ],
   "source": [
    "# tracking time for dictionary\n",
    "start_time = time.time()\n",
    "\n",
    "print(d[9999999])\n",
    "\n",
    "end_time = time.time() - start_time\n",
    "\n",
    "print('Elapsed time for dictionary: {}'.format(end_time))\n",
    "\n",
    "\n",
    "# tracking time for list\n",
    "start_time = time.time()\n",
    "\n",
    "for i in range(len(big_list)):\n",
    "    if i == 9999999:\n",
    "        print(i)\n",
    "        \n",
    "end_time = time.time() - start_time\n",
    "\n",
    "print('Elapsed time for list: {}'.format(end_time))"
   ]
  },
  {
   "cell_type": "markdown",
   "metadata": {
    "id": "CmcdSTb0tkyT"
   },
   "source": [
    "## Exercise #3 - Write a Function that asks someone's name and address, and then stores that into a dictionary, and continues to do so until they choose to 'quit'. Once they quit, the program should print all names and addresses. <br>\n",
    "<p>\n",
    "<b>Proper steps:</b><br>\n",
    "step 1: write a function that takes in information and stores it in a dictionary<br>\n",
    "step 2: define an empty dictionary to work with<br>\n",
    "step 3: create our loop, which asks the user for information until they quit<br>\n",
    "step 4: ask for the information, and store it into variables<br>\n",
    "step 5: check if the user types quit<br>\n",
    "step 5a: print out all information<br>\n",
    "step 5b: break out of the loop<br>\n",
    "step 6: if they didn't quit, add the information to the dictionary<br>\n",
    "step 7: invoke the function by calling it\n",
    "</p>"
   ]
  },
  {
   "cell_type": "code",
   "execution_count": 93,
   "metadata": {
    "id": "vmpJoD07tkyT",
    "outputId": "ae2c6966-4c99-415b-bb19-6dd75315f401"
   },
   "outputs": [
    {
     "name": "stdout",
     "output_type": "stream",
     "text": [
      "What is your name? Troy Fleming\n",
      "What is your current job? Scientist\n",
      "Hit enter to continue, or type 'quit' to print the created dictionary. \n",
      "What is your name? Finn Fleming\n",
      "What is your current job? Marketer\n",
      "Hit enter to continue, or type 'quit' to print the created dictionary. \n",
      "What is your name? Essie Fleming\n",
      "What is your current job? Anthropologist\n",
      "Hit enter to continue, or type 'quit' to print the created dictionary. quit\n",
      "{'Troy Fleming': 'Scientist', 'Finn Fleming': 'Marketer', 'Essie Fleming': 'Anthropologist'}\n"
     ]
    }
   ],
   "source": [
    "def collect_info():\n",
    "    \n",
    "    info_dict = {}\n",
    "\n",
    "    while True:\n",
    "        name = input('What is your name? ')\n",
    "        job = input('What is your current job? ')\n",
    "        \n",
    "        info_dict[name] = job\n",
    "    \n",
    "        response = input(\"Hit enter to continue, or type 'quit' to print the created dictionary. \")\n",
    "        if response.lower() == 'quit':\n",
    "            print(info_dict)\n",
    "            break\n",
    "\n",
    "collect_info()  "
   ]
  },
  {
   "cell_type": "markdown",
   "metadata": {
    "id": "LFv5HdFLtkyU"
   },
   "source": [
    "## Set <br>\n",
    "<p>A Set is an unordered collection data type that is iterable (loop), mutable, and has no duplicate elements.<br>Major advantage is that it is highly optimized in checking if something is in the set, as opposed to checking if something is in a list.</p>"
   ]
  },
  {
   "cell_type": "markdown",
   "metadata": {
    "id": "320mXOtOtkyU"
   },
   "source": [
    "##### Declaring"
   ]
  },
  {
   "cell_type": "code",
   "execution_count": 49,
   "metadata": {
    "id": "0ubJ6ywttkyU",
    "outputId": "d51d1008-ed86-4638-9b02-de9c31eaefa5"
   },
   "outputs": [
    {
     "name": "stdout",
     "output_type": "stream",
     "text": [
      "{1, 4, 6, 'string'}\n",
      "<class 'set'>\n"
     ]
    }
   ],
   "source": [
    "# Works like a tuple, but has more items and can be changed\n",
    "# However, this cannot have duplicate elements. All values must be unique\n",
    "# Orders everything in ascending or alphabetical by default\n",
    "# Really useful if you want to take a list and get the unique values only\n",
    "\n",
    "nums = {4,1,6,'string',4}\n",
    "\n",
    "print(nums)\n",
    "print(type(nums))"
   ]
  },
  {
   "cell_type": "markdown",
   "metadata": {
    "id": "jpl0oOsVtkyU"
   },
   "source": [
    "##### .add()"
   ]
  },
  {
   "cell_type": "code",
   "execution_count": 50,
   "metadata": {
    "id": "WJVSxULWtkyV",
    "outputId": "2892ca2a-5fcb-43b8-c5fe-4071f7733f51"
   },
   "outputs": [
    {
     "name": "stdout",
     "output_type": "stream",
     "text": [
      "{1, 4, 6, 'string', 56}\n"
     ]
    }
   ],
   "source": [
    "# Can add values via the .add() function\n",
    "# Formatting: set.add(value to add)\n",
    "# Adds value to front of set if there are no strings, otherwise will place it at end\n",
    "\n",
    "nums.add(56)\n",
    "print(nums)"
   ]
  },
  {
   "cell_type": "markdown",
   "metadata": {
    "id": "wDZRUd6atkyV"
   },
   "source": [
    "##### .remove()"
   ]
  },
  {
   "cell_type": "code",
   "execution_count": 52,
   "metadata": {
    "id": "b9z8ItLmtkyV",
    "outputId": "a2bb4a7c-78e0-4f54-8dba-227e0f134e49"
   },
   "outputs": [
    {
     "name": "stdout",
     "output_type": "stream",
     "text": [
      "{1, 4, 6, 'string'}\n"
     ]
    }
   ],
   "source": [
    "# Can remove values via the .remove() function\n",
    "# Formatting: set.remove(value to remove)\n",
    "\n",
    "nums.remove(56)\n",
    "print(nums)"
   ]
  },
  {
   "cell_type": "markdown",
   "metadata": {
    "id": "WCnks_5XtkyV"
   },
   "source": [
    "##### .union() "
   ]
  },
  {
   "cell_type": "code",
   "execution_count": 56,
   "metadata": {
    "id": "_H5wFuMBtkyV",
    "outputId": "4aefa229-8b10-48f7-b575-d7d0899cc17c"
   },
   "outputs": [
    {
     "name": "stdout",
     "output_type": "stream",
     "text": [
      "{1, 2, 3, 4, 5, 6}\n",
      "{1, 2, 3, 4, 5, 6}\n"
     ]
    }
   ],
   "source": [
    "# Joins two sets together, either by using the | operator or via the .union() function\n",
    "# Formatting: set.union(set to combine)\n",
    "\n",
    "s1 = {1,2,3,4}\n",
    "s2 = {3,4,5,6}\n",
    "\n",
    "s3 = s1.union(s2)\n",
    "print(s3)\n",
    "\n",
    "s4 = s1 | s2\n",
    "print(s4)"
   ]
  },
  {
   "cell_type": "markdown",
   "metadata": {
    "id": "mQH9McXMtkyW"
   },
   "source": [
    "##### .intersection()"
   ]
  },
  {
   "cell_type": "code",
   "execution_count": 59,
   "metadata": {
    "id": "IteHNeQztkyW",
    "outputId": "3fca768c-97ee-48ea-8181-8d2fcc9a8739"
   },
   "outputs": [
    {
     "name": "stdout",
     "output_type": "stream",
     "text": [
      "{3, 4}\n",
      "{3, 4}\n"
     ]
    }
   ],
   "source": [
    "# Returns an intersection of two sets, either by using the & operator or the .intersection() function\n",
    "# Only takes similar elements from each set\n",
    "\n",
    "s5 = s2 & s1\n",
    "print(s5)\n",
    "\n",
    "s6 = s1.intersection(s2)\n",
    "print(s6)\n"
   ]
  },
  {
   "cell_type": "markdown",
   "metadata": {
    "id": "1syJoVyKtkyW"
   },
   "source": [
    "##### .difference()"
   ]
  },
  {
   "cell_type": "code",
   "execution_count": 62,
   "metadata": {
    "id": "wr2kzCYKtkyW",
    "outputId": "f98b0cae-7d12-47b3-ff52-a09c397a3792"
   },
   "outputs": [
    {
     "name": "stdout",
     "output_type": "stream",
     "text": [
      "{1, 2, 3, 4}\n",
      "{3, 4, 5, 6}\n",
      "{5, 6}\n",
      "{1, 2}\n"
     ]
    }
   ],
   "source": [
    "# Returns a set containing all elements of the initial set that are not in the second set, essentially the difference\n",
    "# between what is not in the second set but is in the first set. (The unique values within the initial set)\n",
    "\n",
    "s7 = s2 - s1\n",
    "\n",
    "s8 = s1.difference(s2)\n",
    "\n",
    "print(s1)\n",
    "print(s2)\n",
    "print(s7)\n",
    "print(s8)\n"
   ]
  },
  {
   "cell_type": "markdown",
   "metadata": {
    "id": "26TWgG-RtkyW"
   },
   "source": [
    "##### .clear()"
   ]
  },
  {
   "cell_type": "code",
   "execution_count": 63,
   "metadata": {
    "id": "7B1RcfdqtkyW",
    "outputId": "43fac56a-0a99-4fb6-fae8-da74962680e4"
   },
   "outputs": [
    {
     "name": "stdout",
     "output_type": "stream",
     "text": [
      "set()\n"
     ]
    }
   ],
   "source": [
    "# Can delete all avlues in a set using the .clear() function\n",
    "# Formatting: set.clear()\n",
    "\n",
    "s8.clear()\n",
    "print(s8)"
   ]
  },
  {
   "cell_type": "markdown",
   "metadata": {
    "id": "HGvSTp0xtkyX"
   },
   "source": [
    "##### Frozenset <br>\n",
    "<p>Frozen sets are immutable objects that only support methods and operators that produce a result without affecting the frozen set or sets to which they are applied.</p><br><b>Unique & Immutable</b>"
   ]
  },
  {
   "cell_type": "code",
   "execution_count": 66,
   "metadata": {
    "id": "BjRR5Y_1tkyX",
    "outputId": "1ee963d2-9794-45bd-94a2-1fa3448832a3"
   },
   "outputs": [
    {
     "name": "stdout",
     "output_type": "stream",
     "text": [
      "frozenset({1, 2, 3, 4, 5, 6})\n"
     ]
    }
   ],
   "source": [
    "# A frozen set can't be altered in any way, can only return specific values through fuctions like intersection()\n",
    "\n",
    "my_frozen_set = frozenset(s3)\n",
    "\n",
    "print(my_frozen_set)\n"
   ]
  },
  {
   "cell_type": "markdown",
   "metadata": {
    "id": "2gkFJyzytkyX"
   },
   "source": [
    "## Modules"
   ]
  },
  {
   "cell_type": "markdown",
   "metadata": {
    "id": "7b--YJXntkyX"
   },
   "source": [
    "##### Importing Entire Modules"
   ]
  },
  {
   "cell_type": "code",
   "execution_count": 69,
   "metadata": {
    "id": "j7dC0ozitkyX",
    "outputId": "0eadf679-8fe8-4e0f-e316-b07b9b305033"
   },
   "outputs": [
    {
     "name": "stdout",
     "output_type": "stream",
     "text": [
      "3.141592653589793\n",
      "3\n",
      "3\n"
     ]
    }
   ],
   "source": [
    "# Can import entire modules into current files for use in fuctions\n",
    "# Formatting: import module OR from file import module\n",
    "\n",
    "import math\n",
    "\n",
    "print(math.pi)\n",
    "print(int(math.pi // 1))\n",
    "print(math.floor(math.pi))\n"
   ]
  },
  {
   "cell_type": "markdown",
   "metadata": {
    "id": "LUt8aR3etkyX"
   },
   "source": [
    "##### Importing Methods Only"
   ]
  },
  {
   "cell_type": "code",
   "execution_count": 71,
   "metadata": {
    "id": "FzWTJcZjtkyY",
    "outputId": "83455281-72a1-4a31-e13f-0f2166eb41c1"
   },
   "outputs": [
    {
     "name": "stdout",
     "output_type": "stream",
     "text": [
      "3\n"
     ]
    }
   ],
   "source": [
    "# Can import specific methods/functions\n",
    "from math import floor, pi\n",
    "\n",
    "print(floor(pi))"
   ]
  },
  {
   "cell_type": "markdown",
   "metadata": {
    "id": "Jt5jNmc0tkyY"
   },
   "source": [
    "##### Using the 'as' Keyword"
   ]
  },
  {
   "cell_type": "code",
   "execution_count": 73,
   "metadata": {
    "id": "dshHluZYtkyY",
    "outputId": "004549f8-5da0-41ba-ac37-5923d5a4fae7"
   },
   "outputs": [
    {
     "name": "stdout",
     "output_type": "stream",
     "text": [
      "3\n"
     ]
    }
   ],
   "source": [
    "# Can import using the 'as' method\n",
    "# Formatting: from file import module as variable, module as variable (if importing multiple)\n",
    "# Formatting: import module as variable\n",
    "\n",
    "from math import floor as f, pi as p\n",
    "\n",
    "print(f(p))\n",
    "\n",
    "import math as m"
   ]
  },
  {
   "cell_type": "markdown",
   "metadata": {
    "id": "t8W7RQnCtkyY"
   },
   "source": [
    "##### Creating a Module"
   ]
  },
  {
   "cell_type": "code",
   "execution_count": 11,
   "metadata": {
    "id": "3z5o0SV3tkyY",
    "outputId": "f1c8efa6-a243-4a93-a1fe-8f675ad53a32"
   },
   "outputs": [
    {
     "ename": "NameError",
     "evalue": "name 'printName' is not defined",
     "output_type": "error",
     "traceback": [
      "\u001b[1;31m---------------------------------------------------------------------------\u001b[0m",
      "\u001b[1;31mNameError\u001b[0m                                 Traceback (most recent call last)",
      "Cell \u001b[1;32mIn[11], line 7\u001b[0m\n\u001b[0;32m      1\u001b[0m \u001b[38;5;66;03m# Note: Instructors notes in video Python 3:2 Sets and Modules that this may be buggy/not work,\u001b[39;00m\n\u001b[0;32m      2\u001b[0m \u001b[38;5;66;03m# but I've tested this in VS code and it is working as intended\u001b[39;00m\n\u001b[0;32m      3\u001b[0m \u001b[38;5;66;03m# Refer to import_testing.py for verification\u001b[39;00m\n\u001b[0;32m      4\u001b[0m \u001b[38;5;66;03m# Note: The way this function was originally written, it was trying to call the name as a set and not working.\u001b[39;00m\n\u001b[0;32m      6\u001b[0m \u001b[38;5;28;01mimport\u001b[39;00m \u001b[38;5;21;01mmodule\u001b[39;00m\n\u001b[1;32m----> 7\u001b[0m printName(\u001b[38;5;124m'\u001b[39m\u001b[38;5;124mTroy\u001b[39m\u001b[38;5;124m'\u001b[39m)\n",
      "\u001b[1;31mNameError\u001b[0m: name 'printName' is not defined"
     ]
    }
   ],
   "source": [
    "# Note: Instructors notes in video Python 3:2 Sets and Modules that this may be buggy/not work,\n",
    "# but I've tested this in VS code and it is working as intended\n",
    "# Refer to import_testing.py for verification\n",
    "# Note: The way this function was originally written, it was trying to call the name as a set and not working.\n",
    "# Modified it to call the name as a string and print the desired output.\n",
    "\n",
    "import module\n",
    "printName('Troy')"
   ]
  },
  {
   "cell_type": "markdown",
   "metadata": {
    "id": "rnVCYaWNtkyZ"
   },
   "source": [
    "# Exercises"
   ]
  },
  {
   "cell_type": "markdown",
   "metadata": {
    "id": "PMNQ6dI9tkyZ"
   },
   "source": [
    "### 1) Build a Shopping Cart <br>\n",
    "<p><b>You can use either lists or dictionaries. The program should have the following capabilities:</b><br><br>\n",
    "1) Takes in input <br>\n",
    "2) Stores user input into a dictionary or list <br>\n",
    "3) The User can add or delete items <br>\n",
    "4) The User can see current shopping list <br>\n",
    "5) The program Loops until user 'quits' <br>\n",
    "6) Upon quiting the program, print out all items in the user's list <br>\n",
    "</p>"
   ]
  },
  {
   "cell_type": "code",
   "execution_count": 1,
   "metadata": {
    "id": "_WFgS4YKtkyZ"
   },
   "outputs": [
    {
     "name": "stdout",
     "output_type": "stream",
     "text": [
      "\n",
      "What would you like to do? Type value as you see it. \n",
      "Show \n",
      "Add \n",
      "Delete \n",
      "Clear \n",
      "Quit \n",
      "Add\n",
      "\n",
      "What would you like to add to your cart? Milk\n",
      "\n",
      "Milk has been added to your cart.\n",
      "\n",
      "What would you like to do? Type value as you see it. \n",
      "Show \n",
      "Add \n",
      "Delete \n",
      "Clear \n",
      "Quit \n",
      "Add\n",
      "\n",
      "What would you like to add to your cart? Steak\n",
      "\n",
      "Steak has been added to your cart.\n",
      "\n",
      "What would you like to do? Type value as you see it. \n",
      "Show \n",
      "Add \n",
      "Delete \n",
      "Clear \n",
      "Quit \n",
      "Add\n",
      "\n",
      "What would you like to add to your cart? Cheese\n",
      "\n",
      "Cheese has been added to your cart.\n",
      "\n",
      "What would you like to do? Type value as you see it. \n",
      "Show \n",
      "Add \n",
      "Delete \n",
      "Clear \n",
      "Quit \n",
      "Add\n",
      "\n",
      "What would you like to add to your cart? Salsa\n",
      "\n",
      "Salsa has been added to your cart.\n",
      "\n",
      "What would you like to do? Type value as you see it. \n",
      "Show \n",
      "Add \n",
      "Delete \n",
      "Clear \n",
      "Quit \n",
      "Show\n",
      "\n",
      "Items currently in your shopping cart:  ['Milk', 'Steak', 'Cheese', 'Salsa']\n",
      "\n",
      "What would you like to do? Type value as you see it. \n",
      "Show \n",
      "Add \n",
      "Delete \n",
      "Clear \n",
      "Quit \n",
      "Delete\n",
      "['Milk', 'Steak', 'Cheese', 'Salsa']\n",
      "\n",
      "Enter the item you would like to delete from your cart. Salsa\n",
      "\n",
      "Salsa has been removed from your cart.\n",
      "\n",
      "What would you like to do? Type value as you see it. \n",
      "Show \n",
      "Add \n",
      "Delete \n",
      "Clear \n",
      "Quit \n",
      "Show\n",
      "\n",
      "Items currently in your shopping cart:  ['Milk', 'Steak', 'Cheese']\n",
      "\n",
      "What would you like to do? Type value as you see it. \n",
      "Show \n",
      "Add \n",
      "Delete \n",
      "Clear \n",
      "Quit \n",
      "Clear\n",
      "\n",
      "Your cart is now empty.\n",
      "\n",
      "What would you like to do? Type value as you see it. \n",
      "Show \n",
      "Add \n",
      "Delete \n",
      "Clear \n",
      "Quit \n",
      "Show\n",
      "\n",
      "Items currently in your shopping cart:  []\n",
      "\n",
      "What would you like to do? Type value as you see it. \n",
      "Show \n",
      "Add \n",
      "Delete \n",
      "Clear \n",
      "Quit \n",
      "Add\n",
      "\n",
      "What would you like to add to your cart? Pita Bread\n",
      "\n",
      "Pita Bread has been added to your cart.\n",
      "\n",
      "What would you like to do? Type value as you see it. \n",
      "Show \n",
      "Add \n",
      "Delete \n",
      "Clear \n",
      "Quit \n",
      "Add\n",
      "\n",
      "What would you like to add to your cart? Humus\n",
      "\n",
      "Humus has been added to your cart.\n",
      "\n",
      "What would you like to do? Type value as you see it. \n",
      "Show \n",
      "Add \n",
      "Delete \n",
      "Clear \n",
      "Quit \n",
      "Show\n",
      "\n",
      "Items currently in your shopping cart:  ['Pita Bread', 'Humus']\n",
      "\n",
      "What would you like to do? Type value as you see it. \n",
      "Show \n",
      "Add \n",
      "Delete \n",
      "Clear \n",
      "Quit \n",
      "Quit\n",
      "\n",
      "Your final shopping list is:  ['Pita Bread', 'Humus']\n"
     ]
    }
   ],
   "source": [
    "# Ask the user 5 bits of input: Do you want to : Show/Add/Delete/clear or Quit?\n",
    "\n",
    "def shopping_cart():\n",
    "    \n",
    "    cart_items = []\n",
    "\n",
    "    while True:\n",
    "        user_action = input('\\nWhat would you like to do? Type value as you see it. ' + \"\\nShow \\nAdd \\nDelete \\nClear \\nQuit \\n\")\n",
    "        \n",
    "        if user_action == \"Show\":\n",
    "            print(f'\\nItems currently in your shopping cart: ', cart_items)\n",
    "        elif user_action == \"Add\":\n",
    "            cart_add = input(\"\\nWhat would you like to add to your cart? \")\n",
    "            cart_items.append(cart_add)\n",
    "            print(f'\\n{cart_add} has been added to your cart.')\n",
    "        elif user_action == \"Delete\":\n",
    "            print(cart_items)\n",
    "            cart_rem = input('\\nEnter the item you would like to delete from your cart. ')\n",
    "            cart_items.remove(cart_rem)\n",
    "            print(f'\\n{cart_rem} has been removed from your cart.')\n",
    "        elif user_action == \"Clear\":\n",
    "            cart_items = []\n",
    "            print(f'\\nYour cart is now empty.')\n",
    "        elif user_action == \"Quit\":\n",
    "            print(f'\\nYour final shopping list is: ', cart_items)\n",
    "            break\n",
    "\n",
    "shopping_cart()\n"
   ]
  },
  {
   "cell_type": "markdown",
   "metadata": {
    "id": "OFmdSk4JtkyZ"
   },
   "source": [
    "### 2) Create a Module in VS Code and Import It into jupyter notebook <br>\n",
    "<p><b>Module should have the following capabilities:</b><br><br>\n",
    "1) Has a function to calculate the square footage of a house <br>\n",
    "    <b>Reminder of Formula: Length X Width == Area<br>\n",
    "        <hr>\n",
    "2) Has a function to calculate the circumference of a circle <br><br>\n",
    "<b>Program in Jupyter Notebook should take in user input and use imported functions to calculate a circle's circumference or a houses square footage</b>\n",
    "</p>"
   ]
  },
  {
   "cell_type": "code",
   "execution_count": 9,
   "metadata": {
    "id": "q9dOkQZStkyZ"
   },
   "outputs": [
    {
     "ename": "NameError",
     "evalue": "name 'calc_sqft' is not defined",
     "output_type": "error",
     "traceback": [
      "\u001b[1;31m---------------------------------------------------------------------------\u001b[0m",
      "\u001b[1;31mNameError\u001b[0m                                 Traceback (most recent call last)",
      "Cell \u001b[1;32mIn[9], line 8\u001b[0m\n\u001b[0;32m      5\u001b[0m \u001b[38;5;28;01mimport\u001b[39;00m \u001b[38;5;21;01mdoc3\u001b[39;00m\n\u001b[0;32m      7\u001b[0m \u001b[38;5;66;03m# Square Footage Calculation Fuction: calc_sqft\u001b[39;00m\n\u001b[1;32m----> 8\u001b[0m \u001b[38;5;28mprint\u001b[39m(calc_sqft(\u001b[38;5;241m25\u001b[39m,\u001b[38;5;241m15\u001b[39m))\n\u001b[0;32m     10\u001b[0m \u001b[38;5;66;03m# Circumference Calculation Function: calc_circ\u001b[39;00m\n\u001b[0;32m     11\u001b[0m \u001b[38;5;28mprint\u001b[39m(calc_circ(\u001b[38;5;241m15\u001b[39m))\n",
      "\u001b[1;31mNameError\u001b[0m: name 'calc_sqft' is not defined"
     ]
    }
   ],
   "source": [
    "# Note: Instructors notes in video Python 3:2 Sets and Modules that this may be buggy/not work,\n",
    "# but I've tested this in VS code and it is working as intended\n",
    "# Refer to import_testing.py for verification\n",
    "\n",
    "\n",
    "import doc3\n",
    "\n",
    "# Square Footage Calculation Fuction: calc_sqft\n",
    "print(calc_sqft(25,15))\n",
    "\n",
    "# Circumference Calculation Function: calc_circ\n",
    "print(calc_circ(15))"
   ]
  }
 ],
 "metadata": {
  "colab": {
   "collapsed_sections": [
    "sXNEqY_PtkyP",
    "qLcuftHjtkyS",
    "CmcdSTb0tkyT",
    "LFv5HdFLtkyU",
    "2gkFJyzytkyX",
    "PMNQ6dI9tkyZ",
    "OFmdSk4JtkyZ"
   ],
   "name": "Wednesday_Lesson_Inclass-Updated-Lecture-Updated2021.ipynb",
   "provenance": []
  },
  "kernelspec": {
   "display_name": "Python 3 (ipykernel)",
   "language": "python",
   "name": "python3"
  },
  "language_info": {
   "codemirror_mode": {
    "name": "ipython",
    "version": 3
   },
   "file_extension": ".py",
   "mimetype": "text/x-python",
   "name": "python",
   "nbconvert_exporter": "python",
   "pygments_lexer": "ipython3",
   "version": "3.11.3"
  }
 },
 "nbformat": 4,
 "nbformat_minor": 1
}
